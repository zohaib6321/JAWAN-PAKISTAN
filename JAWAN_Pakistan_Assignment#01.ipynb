{
 "cells": [
  {
   "cell_type": "code",
   "execution_count": 1,
   "metadata": {},
   "outputs": [
    {
     "name": "stdout",
     "output_type": "stream",
     "text": [
      "Twinkle, twinkle, little star, \n",
      " \t How I wonder what you are! \n",
      " \t\t Up above the world so high, \n",
      " \t\t Like a diamond in the sky. \n",
      " Twinkle twinkle little star, \n",
      "\t How I wonder what you are\n"
     ]
    }
   ],
   "source": [
    "print(\"Twinkle, twinkle, little star, \\n \\t How I wonder what you are! \\n \\t\\t Up above the world so high, \\n \\t\\t Like a diamond in the sky. \\n Twinkle twinkle little star, \\n\\t How I wonder what you are\")"
   ]
  },
  {
   "cell_type": "code",
   "execution_count": 2,
   "metadata": {},
   "outputs": [
    {
     "name": "stdout",
     "output_type": "stream",
     "text": [
      "Python version\n",
      "3.8.5 (default, Sep  3 2020, 21:29:08) [MSC v.1916 64 bit (AMD64)]\n"
     ]
    }
   ],
   "source": [
    "import sys\n",
    "print(\"Python version\")\n",
    "print (sys.version)"
   ]
  },
  {
   "cell_type": "code",
   "execution_count": 5,
   "metadata": {},
   "outputs": [
    {
     "name": "stdout",
     "output_type": "stream",
     "text": [
      "Current date and time is:  2021-12-28 21:20:32.187837\n"
     ]
    }
   ],
   "source": [
    "from datetime import datetime\n",
    "now = datetime.now()\n",
    "print(\"Current date and time is: \", now)"
   ]
  },
  {
   "cell_type": "code",
   "execution_count": 10,
   "metadata": {},
   "outputs": [
    {
     "name": "stdout",
     "output_type": "stream",
     "text": [
      "please enter the radius for getting area: 12\n",
      "The area for given radius is: 452.15999999999997\n"
     ]
    }
   ],
   "source": [
    "radius = int(input(\"please enter the radius for getting area: \"))\n",
    "PI = 3.14\n",
    "Area = (PI*radius*radius)\n",
    "print(\"The area for given radius is:\", Area)"
   ]
  },
  {
   "cell_type": "code",
   "execution_count": 11,
   "metadata": {},
   "outputs": [
    {
     "name": "stdout",
     "output_type": "stream",
     "text": [
      "Please enter the first name of user:Muhammad\n",
      "Please enter the last name name of user:Zohaib\n",
      "The full name of the User is: \t Zohaib Muhammad\n"
     ]
    }
   ],
   "source": [
    "first_name = input(\"Please enter the first name of user:\")\n",
    "last_name = input(\"Please enter the last name name of user:\")\n",
    "\n",
    "first_name,last_name = last_name,first_name\n",
    "\n",
    "print(\"The full name of the User is: \\t\", first_name, last_name)"
   ]
  },
  {
   "cell_type": "code",
   "execution_count": 12,
   "metadata": {},
   "outputs": [
    {
     "name": "stdout",
     "output_type": "stream",
     "text": [
      "Please enter 1st number:21\n",
      "Please enter 2nd number:92\n",
      "The addition of first and second number is: \t 113\n"
     ]
    }
   ],
   "source": [
    "Num1 = int(input(\"Please enter 1st number:\"))\n",
    "Num2 = int(input(\"Please enter 2nd number:\"))\n",
    "Addition = Num1+Num2\n",
    "\n",
    "print(\"The addition of first and second number is: \\t\", Addition)"
   ]
  },
  {
   "cell_type": "code",
   "execution_count": null,
   "metadata": {},
   "outputs": [],
   "source": []
  }
 ],
 "metadata": {
  "kernelspec": {
   "display_name": "Python 3",
   "language": "python",
   "name": "python3"
  },
  "language_info": {
   "codemirror_mode": {
    "name": "ipython",
    "version": 3
   },
   "file_extension": ".py",
   "mimetype": "text/x-python",
   "name": "python",
   "nbconvert_exporter": "python",
   "pygments_lexer": "ipython3",
   "version": "3.8.5"
  }
 },
 "nbformat": 4,
 "nbformat_minor": 4
}
